{
  "nbformat": 4,
  "nbformat_minor": 0,
  "metadata": {
    "colab": {
      "name": "Fraud_Detection_Assignment.ipynb",
      "provenance": [],
      "collapsed_sections": [],
      "include_colab_link": true
    },
    "kernelspec": {
      "name": "python3",
      "display_name": "Python 3"
    }
  },
  "cells": [
    {
      "cell_type": "markdown",
      "metadata": {
        "id": "view-in-github",
        "colab_type": "text"
      },
      "source": [
        "<a href=\"https://colab.research.google.com/github/cseprasadpawar/Stock-Prediction-using-Regression/blob/master/Fraud_Detection_Assignment.ipynb\" target=\"_parent\"><img src=\"https://colab.research.google.com/assets/colab-badge.svg\" alt=\"Open In Colab\"/></a>"
      ]
    },
    {
      "cell_type": "code",
      "metadata": {
        "id": "eDUax7JJ-5ax",
        "colab_type": "code",
        "colab": {}
      },
      "source": [
        "import numpy as np\n",
        "import pandas as pd\n",
        "from sklearn.model_selection import train_test_split\n",
        "from sklearn.preprocessing import RobustScaler\n",
        "from catboost import CatBoostClassifier"
      ],
      "execution_count": 0,
      "outputs": []
    },
    {
      "cell_type": "code",
      "metadata": {
        "id": "kegfCzNl_vdr",
        "colab_type": "code",
        "colab": {
          "base_uri": "https://localhost:8080/",
          "height": 105
        },
        "outputId": "c850b849-5e82-42bf-c8de-a0c14186b445"
      },
      "source": [
        "from zipfile import ZipFile\n",
        "f = ZipFile(\"ieee-fraud-detection.zip\")\n",
        "f.infolist()"
      ],
      "execution_count": 17,
      "outputs": [
        {
          "output_type": "execute_result",
          "data": {
            "text/plain": [
              "[<ZipInfo filename='test_identity.csv' compress_type=deflate file_size=25797161 compress_size=3114539>,\n",
              " <ZipInfo filename='test_transaction.csv' compress_type=deflate file_size=613194934 compress_size=49628814>,\n",
              " <ZipInfo filename='train_identity.csv' compress_type=deflate file_size=26529680 compress_size=3165987>,\n",
              " <ZipInfo filename='sample_submission.csv' compress_type=deflate file_size=6080314 compress_size=1192962>,\n",
              " <ZipInfo filename='train_transaction.csv' compress_type=deflate file_size=683351067 compress_size=55058592>]"
            ]
          },
          "metadata": {
            "tags": []
          },
          "execution_count": 17
        }
      ]
    },
    {
      "cell_type": "code",
      "metadata": {
        "id": "HMRPLbIHYfm5",
        "colab_type": "code",
        "colab": {}
      },
      "source": [
        "transaction_df = pd.read_csv(f.open(\"train_transaction.csv\"))\n",
        "identify_df = pd.read_csv(f.open(\"train_identity.csv\"))"
      ],
      "execution_count": 0,
      "outputs": []
    },
    {
      "cell_type": "code",
      "metadata": {
        "id": "GV3pyk8LHr3N",
        "colab_type": "code",
        "colab": {
          "base_uri": "https://localhost:8080/",
          "height": 52
        },
        "outputId": "b1e9b947-0708-45a3-8ebc-231487e9241e"
      },
      "source": [
        "print('Importing training data...')\n",
        "\n",
        "X = pd.read_csv(f.open(\"train_transaction.csv\"))\n",
        "X_id = pd.read_csv(f.open(\"train_identity.csv\"))\n",
        "                   \n",
        "X = pd.merge(X, X_id, on='TransactionID', how='left')\n",
        "del X_id\n",
        "\n",
        "target = 'isFraud'\n",
        "indexCol = 'TransactionID'\n",
        "remove_features = [target]\n",
        "features = [col for col in list(X) if col not in remove_features]\n",
        "\n",
        "y = X[target]\n",
        "X = X[features]\n",
        "\n",
        "print('Done.')"
      ],
      "execution_count": 22,
      "outputs": [
        {
          "output_type": "stream",
          "text": [
            "Importing training data...\n",
            "Done.\n"
          ],
          "name": "stdout"
        }
      ]
    },
    {
      "cell_type": "code",
      "metadata": {
        "id": "xRo5L0GfIa_1",
        "colab_type": "code",
        "colab": {}
      },
      "source": [
        "# We'll setup some preprocessing helpers.\n",
        "\n",
        "def convertToType(dfCol, npType): # Convert to numpy type\n",
        "    dfCol = dfCol.astype(npType)\n",
        "\n",
        "def convertToFloat32(df): # Convert numeric data to float32 or int32\n",
        "    for col in df.columns:\n",
        "        if df[col].dtypes != np.object and df[col].dtypes != np.int32:\n",
        "            convertToType(df[col], np.float32)\n",
        "            \n",
        "def fillCatNan(df, filler): # Fill missing string values\n",
        "    for col in df.columns:\n",
        "        if df[col].dtypes == np.object:\n",
        "            df[col].fillna(filler, inplace=True)\n",
        "            \n",
        "def fillValNan(df, filler): # Fill missing numeric values\n",
        "    for col in df.columns:\n",
        "        if df[col].dtypes != np.object:\n",
        "            df[col].fillna(0.0, inplace=True)\n",
        "            \n",
        "def scaleVals(df, target): # Scale values\n",
        "    for col in df.columns:\n",
        "        if col != target and col != indexCol and df[col].dtypes != np.object:\n",
        "            scaler = RobustScaler().fit(df[col].values.reshape(-1, 1))\n",
        "            df[col] = scaler.transform(df[col].values.reshape(-1, 1))"
      ],
      "execution_count": 0,
      "outputs": []
    },
    {
      "cell_type": "code",
      "metadata": {
        "id": "oDt2U0AnI2_L",
        "colab_type": "code",
        "colab": {}
      },
      "source": [
        "# For the sake of simplicity, I'll convert numbers to float32.\n",
        "# Empty string values will be replaced with '<empty>'.\n",
        "# Empty numeric values will be replaced with 0.0.\n",
        "\n",
        "def preprocess(df):\n",
        "    convertToType(df[indexCol], np.int32)\n",
        "    fillCatNan(df ,'<empty>')\n",
        "    fillValNan(df , 0.0)\n",
        "    scaleVals(df, target)"
      ],
      "execution_count": 0,
      "outputs": []
    },
    {
      "cell_type": "code",
      "metadata": {
        "id": "dvevKsWUI-Cm",
        "colab_type": "code",
        "colab": {
          "base_uri": "https://localhost:8080/",
          "height": 52
        },
        "outputId": "d07adbe3-1f08-4823-879f-6db119f48eca"
      },
      "source": [
        "print('Converting to float32...')\n",
        "\n",
        "preprocess(X)\n",
        "\n",
        "print('Done.')"
      ],
      "execution_count": 25,
      "outputs": [
        {
          "output_type": "stream",
          "text": [
            "Converting to float32...\n",
            "Done.\n"
          ],
          "name": "stdout"
        }
      ]
    },
    {
      "cell_type": "code",
      "metadata": {
        "id": "9CgXRiH8JF58",
        "colab_type": "code",
        "colab": {
          "base_uri": "https://localhost:8080/",
          "height": 1000
        },
        "outputId": "74dcf9c0-397d-41e6-ae8f-1353a9f464f6"
      },
      "source": [
        "# We'll fit on a basic train/validation split with a stock CatBoost Classifier.\n",
        "\n",
        "print('Training...')\n",
        "\n",
        "X_train, X_test, y_train, y_test = train_test_split(X, y, test_size=0.2, random_state=42)\n",
        "\n",
        "cat_features_indices = np.where(X.dtypes == np.object)[0]\n",
        "model = CatBoostClassifier(iterations=100, depth=3, learning_rate=0.1)   \n",
        "#random_state=0)\n",
        "model.fit(X_train, y_train, cat_features=cat_features_indices)\n",
        "\n",
        "print('Done. Score:', model.score(X_test, y_test) * 100.0)\n",
        "\n",
        "del X, X_train, X_test, y, y_train, y_test"
      ],
      "execution_count": 29,
      "outputs": [
        {
          "output_type": "stream",
          "text": [
            "Training...\n",
            "0:\tlearn: 0.5453201\ttotal: 1.32s\tremaining: 2m 10s\n",
            "1:\tlearn: 0.4348084\ttotal: 2.62s\tremaining: 2m 8s\n",
            "2:\tlearn: 0.3540927\ttotal: 3.98s\tremaining: 2m 8s\n",
            "3:\tlearn: 0.2959035\ttotal: 5.05s\tremaining: 2m 1s\n",
            "4:\tlearn: 0.2513983\ttotal: 6.17s\tremaining: 1m 57s\n",
            "5:\tlearn: 0.2197692\ttotal: 7.23s\tremaining: 1m 53s\n",
            "6:\tlearn: 0.1971286\ttotal: 8.28s\tremaining: 1m 50s\n",
            "7:\tlearn: 0.1800250\ttotal: 9.4s\tremaining: 1m 48s\n",
            "8:\tlearn: 0.1656034\ttotal: 10.5s\tremaining: 1m 46s\n",
            "9:\tlearn: 0.1549794\ttotal: 11.6s\tremaining: 1m 44s\n",
            "10:\tlearn: 0.1470837\ttotal: 12.7s\tremaining: 1m 42s\n",
            "11:\tlearn: 0.1408929\ttotal: 13.8s\tremaining: 1m 40s\n",
            "12:\tlearn: 0.1360189\ttotal: 15s\tremaining: 1m 40s\n",
            "13:\tlearn: 0.1320396\ttotal: 16.1s\tremaining: 1m 39s\n",
            "14:\tlearn: 0.1288704\ttotal: 17.1s\tremaining: 1m 37s\n",
            "15:\tlearn: 0.1262271\ttotal: 18.2s\tremaining: 1m 35s\n",
            "16:\tlearn: 0.1242645\ttotal: 19.2s\tremaining: 1m 33s\n",
            "17:\tlearn: 0.1225019\ttotal: 20.2s\tremaining: 1m 32s\n",
            "18:\tlearn: 0.1206418\ttotal: 21.3s\tremaining: 1m 30s\n",
            "19:\tlearn: 0.1190950\ttotal: 22.4s\tremaining: 1m 29s\n",
            "20:\tlearn: 0.1179534\ttotal: 23.5s\tremaining: 1m 28s\n",
            "21:\tlearn: 0.1166591\ttotal: 24.6s\tremaining: 1m 27s\n",
            "22:\tlearn: 0.1157561\ttotal: 25.7s\tremaining: 1m 26s\n",
            "23:\tlearn: 0.1150246\ttotal: 26.8s\tremaining: 1m 24s\n",
            "24:\tlearn: 0.1142997\ttotal: 27.8s\tremaining: 1m 23s\n",
            "25:\tlearn: 0.1135813\ttotal: 28.9s\tremaining: 1m 22s\n",
            "26:\tlearn: 0.1132275\ttotal: 30s\tremaining: 1m 21s\n",
            "27:\tlearn: 0.1126983\ttotal: 31s\tremaining: 1m 19s\n",
            "28:\tlearn: 0.1120443\ttotal: 32.1s\tremaining: 1m 18s\n",
            "29:\tlearn: 0.1116974\ttotal: 33.2s\tremaining: 1m 17s\n",
            "30:\tlearn: 0.1112717\ttotal: 34.3s\tremaining: 1m 16s\n",
            "31:\tlearn: 0.1110096\ttotal: 35.3s\tremaining: 1m 15s\n",
            "32:\tlearn: 0.1102729\ttotal: 36.4s\tremaining: 1m 13s\n",
            "33:\tlearn: 0.1096812\ttotal: 37.6s\tremaining: 1m 12s\n",
            "34:\tlearn: 0.1091916\ttotal: 38.7s\tremaining: 1m 11s\n",
            "35:\tlearn: 0.1088522\ttotal: 39.8s\tremaining: 1m 10s\n",
            "36:\tlearn: 0.1086166\ttotal: 40.8s\tremaining: 1m 9s\n",
            "37:\tlearn: 0.1083803\ttotal: 41.9s\tremaining: 1m 8s\n",
            "38:\tlearn: 0.1079328\ttotal: 43s\tremaining: 1m 7s\n",
            "39:\tlearn: 0.1077039\ttotal: 44.1s\tremaining: 1m 6s\n",
            "40:\tlearn: 0.1072480\ttotal: 45.2s\tremaining: 1m 5s\n",
            "41:\tlearn: 0.1070244\ttotal: 46.2s\tremaining: 1m 3s\n",
            "42:\tlearn: 0.1068654\ttotal: 47.3s\tremaining: 1m 2s\n",
            "43:\tlearn: 0.1066761\ttotal: 48.4s\tremaining: 1m 1s\n",
            "44:\tlearn: 0.1063158\ttotal: 49.6s\tremaining: 1m\n",
            "45:\tlearn: 0.1061216\ttotal: 50.6s\tremaining: 59.4s\n",
            "46:\tlearn: 0.1058999\ttotal: 51.6s\tremaining: 58.2s\n",
            "47:\tlearn: 0.1056728\ttotal: 52.8s\tremaining: 57.2s\n",
            "48:\tlearn: 0.1054986\ttotal: 53.8s\tremaining: 55.9s\n",
            "49:\tlearn: 0.1052374\ttotal: 54.9s\tremaining: 54.9s\n",
            "50:\tlearn: 0.1050920\ttotal: 56s\tremaining: 53.8s\n",
            "51:\tlearn: 0.1047768\ttotal: 57.2s\tremaining: 52.8s\n",
            "52:\tlearn: 0.1045952\ttotal: 58.2s\tremaining: 51.6s\n",
            "53:\tlearn: 0.1044481\ttotal: 59.3s\tremaining: 50.5s\n",
            "54:\tlearn: 0.1043032\ttotal: 1m\tremaining: 49.4s\n",
            "55:\tlearn: 0.1041841\ttotal: 1m 1s\tremaining: 48.3s\n",
            "56:\tlearn: 0.1038868\ttotal: 1m 2s\tremaining: 47.1s\n",
            "57:\tlearn: 0.1037793\ttotal: 1m 3s\tremaining: 46s\n",
            "58:\tlearn: 0.1036041\ttotal: 1m 4s\tremaining: 45s\n",
            "59:\tlearn: 0.1033236\ttotal: 1m 5s\tremaining: 43.9s\n",
            "60:\tlearn: 0.1032256\ttotal: 1m 7s\tremaining: 42.8s\n",
            "61:\tlearn: 0.1030512\ttotal: 1m 8s\tremaining: 41.7s\n",
            "62:\tlearn: 0.1028745\ttotal: 1m 9s\tremaining: 40.6s\n",
            "63:\tlearn: 0.1026483\ttotal: 1m 10s\tremaining: 39.5s\n",
            "64:\tlearn: 0.1025292\ttotal: 1m 11s\tremaining: 38.4s\n",
            "65:\tlearn: 0.1024366\ttotal: 1m 12s\tremaining: 37.3s\n",
            "66:\tlearn: 0.1021669\ttotal: 1m 13s\tremaining: 36.3s\n",
            "67:\tlearn: 0.1020001\ttotal: 1m 14s\tremaining: 35.2s\n",
            "68:\tlearn: 0.1018779\ttotal: 1m 15s\tremaining: 34s\n",
            "69:\tlearn: 0.1018031\ttotal: 1m 16s\tremaining: 33s\n",
            "70:\tlearn: 0.1016208\ttotal: 1m 18s\tremaining: 31.9s\n",
            "71:\tlearn: 0.1015496\ttotal: 1m 19s\tremaining: 30.8s\n",
            "72:\tlearn: 0.1014571\ttotal: 1m 20s\tremaining: 29.7s\n",
            "73:\tlearn: 0.1013934\ttotal: 1m 21s\tremaining: 28.6s\n",
            "74:\tlearn: 0.1013354\ttotal: 1m 22s\tremaining: 27.5s\n",
            "75:\tlearn: 0.1012359\ttotal: 1m 23s\tremaining: 26.3s\n",
            "76:\tlearn: 0.1011667\ttotal: 1m 24s\tremaining: 25.2s\n",
            "77:\tlearn: 0.1011200\ttotal: 1m 25s\tremaining: 24.1s\n",
            "78:\tlearn: 0.1010639\ttotal: 1m 26s\tremaining: 23s\n",
            "79:\tlearn: 0.1009652\ttotal: 1m 27s\tremaining: 21.9s\n",
            "80:\tlearn: 0.1007895\ttotal: 1m 28s\tremaining: 20.8s\n",
            "81:\tlearn: 0.1007021\ttotal: 1m 29s\tremaining: 19.7s\n",
            "82:\tlearn: 0.1005701\ttotal: 1m 30s\tremaining: 18.6s\n",
            "83:\tlearn: 0.1004479\ttotal: 1m 31s\tremaining: 17.5s\n",
            "84:\tlearn: 0.1002924\ttotal: 1m 33s\tremaining: 16.4s\n",
            "85:\tlearn: 0.1002273\ttotal: 1m 34s\tremaining: 15.3s\n",
            "86:\tlearn: 0.1001206\ttotal: 1m 35s\tremaining: 14.2s\n",
            "87:\tlearn: 0.1000190\ttotal: 1m 36s\tremaining: 13.1s\n",
            "88:\tlearn: 0.0999399\ttotal: 1m 37s\tremaining: 12s\n",
            "89:\tlearn: 0.0998825\ttotal: 1m 38s\tremaining: 10.9s\n",
            "90:\tlearn: 0.0997794\ttotal: 1m 39s\tremaining: 9.83s\n",
            "91:\tlearn: 0.0997389\ttotal: 1m 40s\tremaining: 8.74s\n",
            "92:\tlearn: 0.0996789\ttotal: 1m 41s\tremaining: 7.64s\n",
            "93:\tlearn: 0.0995914\ttotal: 1m 42s\tremaining: 6.56s\n",
            "94:\tlearn: 0.0994555\ttotal: 1m 43s\tremaining: 5.47s\n",
            "95:\tlearn: 0.0993880\ttotal: 1m 44s\tremaining: 4.37s\n",
            "96:\tlearn: 0.0993236\ttotal: 1m 45s\tremaining: 3.27s\n",
            "97:\tlearn: 0.0992571\ttotal: 1m 46s\tremaining: 2.18s\n",
            "98:\tlearn: 0.0992010\ttotal: 1m 47s\tremaining: 1.09s\n",
            "99:\tlearn: 0.0991746\ttotal: 1m 49s\tremaining: 0us\n",
            "Done. Score: 97.3050089748366\n"
          ],
          "name": "stdout"
        }
      ]
    },
    {
      "cell_type": "code",
      "metadata": {
        "id": "iLOxPJoAJyyO",
        "colab_type": "code",
        "colab": {
          "base_uri": "https://localhost:8080/",
          "height": 52
        },
        "outputId": "87ff21cb-02a6-4c42-8c7f-cef063991e8a"
      },
      "source": [
        "# Close enough! Now lets bring in the test data set.\n",
        "\n",
        "print('Importing testing data...')\n",
        "\n",
        "P = pd.read_csv(f.open(\"test_transaction.csv\"))\n",
        "P_id = pd.read_csv(f.open(\"test_identity.csv\"))\n",
        "P = pd.merge(P, P_id, on='TransactionID', how='left')[features]\n",
        "del P_id\n",
        "\n",
        "preprocess(P)\n",
        "\n",
        "print('Done.')"
      ],
      "execution_count": 30,
      "outputs": [
        {
          "output_type": "stream",
          "text": [
            "Importing testing data...\n",
            "Done.\n"
          ],
          "name": "stdout"
        }
      ]
    },
    {
      "cell_type": "code",
      "metadata": {
        "id": "ENANlF2_QxXQ",
        "colab_type": "code",
        "colab": {
          "base_uri": "https://localhost:8080/",
          "height": 52
        },
        "outputId": "3b79710a-09e4-4a82-e00b-d367d98315d6"
      },
      "source": [
        "# Calculate our predictions...\n",
        "print('Calculating predictions...')\n",
        "\n",
        "params = {\n",
        "    'prediction_type': 'Probability'\n",
        "}\n",
        "\n",
        "y_pred = []\n",
        "i, chunksize = 0, 10000\n",
        "for idx in range(0, len(P), chunksize):\n",
        "    batch = P[idx:(i+1)*chunksize]\n",
        "    pred = model.predict(batch, **params)\n",
        "    y_pred += list(pred)\n",
        "    i += 1\n",
        "\n",
        "y_pred = np.array(y_pred)\n",
        "y_pred = np.delete(y_pred, 0, axis=1).flatten() # Only keep probability of isFraud==1\n",
        "\n",
        "print('Done.')"
      ],
      "execution_count": 31,
      "outputs": [
        {
          "output_type": "stream",
          "text": [
            "Calculating predictions...\n",
            "Done.\n"
          ],
          "name": "stdout"
        }
      ]
    },
    {
      "cell_type": "code",
      "metadata": {
        "id": "zPgvlP9iQ1V3",
        "colab_type": "code",
        "colab": {
          "base_uri": "https://localhost:8080/",
          "height": 158
        },
        "outputId": "8f3a4507-f054-4436-bf54-6c11e00142ef"
      },
      "source": [
        "# Save Output to submission.csv\n",
        "\n",
        "print('Saving output...')\n",
        "\n",
        "submission = pd.DataFrame({'TransactionID': P['TransactionID'], 'isFraud': y_pred})\n",
        "submission.to_csv('submission.csv', index=False)\n",
        "print(submission.head())\n",
        "\n",
        "del P, y_pred, submission, model\n",
        "\n",
        "print('Done.')"
      ],
      "execution_count": 32,
      "outputs": [
        {
          "output_type": "stream",
          "text": [
            "Saving final output...\n",
            "   TransactionID   isFraud\n",
            "0        3663549  0.008330\n",
            "1        3663550  0.013188\n",
            "2        3663551  0.011800\n",
            "3        3663552  0.013767\n",
            "4        3663553  0.012975\n",
            "Done.\n"
          ],
          "name": "stdout"
        }
      ]
    }
  ]
}